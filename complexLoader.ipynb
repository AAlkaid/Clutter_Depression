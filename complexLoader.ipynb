{
 "cells": [
  {
   "cell_type": "code",
   "execution_count": 3,
   "metadata": {},
   "outputs": [
    {
     "name": "stdout",
     "output_type": "stream",
     "text": [
      "(2, 1284840)\n"
     ]
    }
   ],
   "source": [
    "import numpy as np\n",
    "\n",
    "\n",
    "orig_shape = (996, 129, 10)\n",
    "\n",
    "\n",
    "with open('/Users/zybu/frame_detection/myComplexData.dat', 'rb') as fileID:\n",
    "    data = np.fromfile(fileID, dtype=np.double)\n",
    "\n",
    "\n",
    "assert data.size == np.prod(orig_shape) * 2, \"Shape error\"\n",
    "\n",
    "data = data.reshape((2, -1))\n",
    "print(data.shape)\n",
    "\n",
    "# 分离实部和虚部，然后将它们重塑为原始三维结构\n",
    "real_part = data[0].reshape(orig_shape)\n",
    "imag_part = data[1].reshape(orig_shape)\n",
    "\n",
    "# 构建复数三维数组\n",
    "complex_array = real_part + 1j * imag_part\n",
    "\n",
    "# 现在 complex_array 应该是一个形状为 (996, 129, 10) 的复数数组\n",
    "# print(complex_array.shape)"
   ]
  },
  {
   "cell_type": "code",
   "execution_count": 1,
   "metadata": {},
   "outputs": [],
   "source": [
    "import numpy as np\n",
    "\n",
    "# 打开文件\n",
    "with open('/Users/zybu/clutter_depression/myComplexData.dat', 'rb') as fileID:\n",
    "    \n",
    "    # 读取维度信息\n",
    "    dims = np.fromfile(fileID, dtype=np.int32, count=3)\n",
    "    \n",
    "    # 计算总的数据点数\n",
    "    num_data_points = np.prod(dims) * 2  # 因为数据是复数\n",
    "    \n",
    "    # 读取剩余的数据\n",
    "    data = np.fromfile(fileID, dtype=np.double, count=num_data_points)\n",
    "    \n",
    "    # 分离实部和虚部，并且重构为原始维度的复数数组\n",
    "    real_part = data[:num_data_points//2].reshape(dims)\n",
    "    imag_part = data[num_data_points//2:].reshape(dims)\n",
    "    complex_data = real_part + 1j * imag_part\n"
   ]
  },
  {
   "cell_type": "code",
   "execution_count": 2,
   "metadata": {},
   "outputs": [
    {
     "data": {
      "text/plain": [
       "(996, 129, 10)"
      ]
     },
     "execution_count": 2,
     "metadata": {},
     "output_type": "execute_result"
    }
   ],
   "source": [
    "complex_data.shape"
   ]
  },
  {
   "cell_type": "code",
   "execution_count": null,
   "metadata": {},
   "outputs": [],
   "source": []
  }
 ],
 "metadata": {
  "kernelspec": {
   "display_name": "Python 3",
   "language": "python",
   "name": "python3"
  },
  "language_info": {
   "codemirror_mode": {
    "name": "ipython",
    "version": 3
   },
   "file_extension": ".py",
   "mimetype": "text/x-python",
   "name": "python",
   "nbconvert_exporter": "python",
   "pygments_lexer": "ipython3",
   "version": "3.9.6"
  }
 },
 "nbformat": 4,
 "nbformat_minor": 2
}
